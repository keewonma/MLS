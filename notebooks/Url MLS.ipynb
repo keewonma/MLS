{
 "cells": [
  {
   "cell_type": "code",
   "execution_count": null,
   "metadata": {
    "collapsed": false
   },
   "outputs": [],
   "source": []
  },
  {
   "cell_type": "code",
   "execution_count": 55,
   "metadata": {
    "collapsed": false
   },
   "outputs": [],
   "source": [
    "season_type = ['REG', 'PS']\n",
    "group = ['goals', 'assists', 'shots', 'fouls', 'goalkeeping', 'shutouts', 'saves']\n",
    "year = ['1996','1997', '1998', '1999', '2000', '2001', '2002', '2003', '2004', '2004', '2005', '2006', '2007', '2008', '2009', '2010', '2011', '2012', '2013', '2014', '2015' '2016']\n",
    "url = 'http://www.mlssoccer.com/stats/season?franchise=select&year=1996&season_type=REG&group=goals&op=Search&form_build_id=form-Q0T5kz3m1vwbC85up5br_i81S4xDvKx6XaZaGIIiS8g&form_id=mp7_stats_hub_build_filter_form'\n",
    "url = 'http://www.mlssoccer.com/stats/season?page=1&franchise=select&year=1996&season_type=REG&group=goals&op=Search&form_build_id=form-Q0T5kz3m1vwbC85up5br_i81S4xDvKx6XaZaGIIiS8g&form_id=mp7_stats_hub_build_filter_form'\n",
    "PROJECT_SAVE = \"/Users/JMa/Learn/PCA/time/\"\n",
    "links = []\n",
    "for year in year:\n",
    "    links.append('http://www.mlssoccer.com/stats/season?&franchise=select&year=' + year + '&season_type=REG&group=goals&op=Search&form_build_id=form-Q0T5kz3m1vwbC85up5br_i81S4xDvKx6XaZaGIIiS8g&form_id=mp7_stats_hub_build_filter_form')\n",
    "    for x in range(1,22):\n",
    "        url = 'http://www.mlssoccer.com/stats/season?page=' + str(x) + '&franchise=select&year=' + year + '&season_type=REG&group=goals&op=Search&form_build_id=form-Q0T5kz3m1vwbC85up5br_i81S4xDvKx6XaZaGIIiS8g&form_id=mp7_stats_hub_build_filter_form'\n",
    "        links.append(url)  "
   ]
  },
  {
   "cell_type": "code",
   "execution_count": 64,
   "metadata": {
    "collapsed": false
   },
   "outputs": [],
   "source": [
    "import csv\n",
    "with open('/Users/JMa/Learn/MLS_trades/data/raw/links.csv', 'w') as output:\n",
    "    writer = csv.writer(output)\n",
    "    writer.writerow(links)"
   ]
  },
  {
   "cell_type": "code",
   "execution_count": null,
   "metadata": {
    "collapsed": false
   },
   "outputs": [],
   "source": []
  },
  {
   "cell_type": "code",
   "execution_count": null,
   "metadata": {
    "collapsed": true
   },
   "outputs": [],
   "source": []
  }
 ],
 "metadata": {
  "kernelspec": {
   "display_name": "Python 3",
   "language": "python",
   "name": "python3"
  },
  "language_info": {
   "codemirror_mode": {
    "name": "ipython",
    "version": 3
   },
   "file_extension": ".py",
   "mimetype": "text/x-python",
   "name": "python",
   "nbconvert_exporter": "python",
   "pygments_lexer": "ipython3",
   "version": "3.5.2"
  }
 },
 "nbformat": 4,
 "nbformat_minor": 0
}
